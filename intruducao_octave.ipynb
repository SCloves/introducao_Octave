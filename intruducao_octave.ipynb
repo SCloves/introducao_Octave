{
 "cells": [
  {
   "cell_type": "markdown",
   "metadata": {},
   "source": [
    "# Operações com números"
   ]
  },
  {
   "cell_type": "code",
   "execution_count": 1,
   "metadata": {
    "collapsed": false
   },
   "outputs": [
    {
     "name": "stdout",
     "output_type": "stream",
     "text": [
      "ans =  11\n"
     ]
    }
   ],
   "source": [
    "5 + 6"
   ]
  },
  {
   "cell_type": "code",
   "execution_count": 2,
   "metadata": {
    "collapsed": false
   },
   "outputs": [
    {
     "name": "stdout",
     "output_type": "stream",
     "text": [
      "ans =  1\n"
     ]
    }
   ],
   "source": [
    "3 -2 "
   ]
  },
  {
   "cell_type": "code",
   "execution_count": 3,
   "metadata": {
    "collapsed": false
   },
   "outputs": [
    {
     "name": "stdout",
     "output_type": "stream",
     "text": [
      "ans =  35\n"
     ]
    }
   ],
   "source": [
    "5*7"
   ]
  },
  {
   "cell_type": "code",
   "execution_count": 4,
   "metadata": {
    "collapsed": false
   },
   "outputs": [
    {
     "name": "stdout",
     "output_type": "stream",
     "text": [
      "ans =  0.50000\n"
     ]
    }
   ],
   "source": [
    "1/2"
   ]
  },
  {
   "cell_type": "code",
   "execution_count": 5,
   "metadata": {
    "collapsed": false
   },
   "outputs": [
    {
     "name": "stdout",
     "output_type": "stream",
     "text": [
      "ans =  64\n"
     ]
    }
   ],
   "source": [
    "2^6"
   ]
  },
  {
   "cell_type": "code",
   "execution_count": 6,
   "metadata": {
    "collapsed": true
   },
   "outputs": [],
   "source": [
    "% para fazer comentários"
   ]
  },
  {
   "cell_type": "code",
   "execution_count": 7,
   "metadata": {
    "collapsed": false
   },
   "outputs": [
    {
     "name": "stdout",
     "output_type": "stream",
     "text": [
      "ans = 0\n"
     ]
    }
   ],
   "source": [
    "1 == 2"
   ]
  },
  {
   "cell_type": "markdown",
   "metadata": {},
   "source": [
    "# Operadores lógicos"
   ]
  },
  {
   "cell_type": "code",
   "execution_count": 8,
   "metadata": {
    "collapsed": false
   },
   "outputs": [
    {
     "name": "stdout",
     "output_type": "stream",
     "text": [
      "ans =  1\n"
     ]
    }
   ],
   "source": [
    "% ~= é sinal de diferente como !=\n",
    "1 ~= 2"
   ]
  },
  {
   "cell_type": "code",
   "execution_count": 9,
   "metadata": {
    "collapsed": false
   },
   "outputs": [
    {
     "name": "stdout",
     "output_type": "stream",
     "text": [
      "ans = 0\n"
     ]
    }
   ],
   "source": [
    "1 && 0 % and"
   ]
  },
  {
   "cell_type": "code",
   "execution_count": 10,
   "metadata": {
    "collapsed": false
   },
   "outputs": [
    {
     "name": "stdout",
     "output_type": "stream",
     "text": [
      "ans =  1\n"
     ]
    }
   ],
   "source": [
    "1 || 0 % or"
   ]
  },
  {
   "cell_type": "markdown",
   "metadata": {},
   "source": [
    "# Variáveis"
   ]
  },
  {
   "cell_type": "code",
   "execution_count": 26,
   "metadata": {
    "collapsed": false
   },
   "outputs": [
    {
     "name": "stdout",
     "output_type": "stream",
     "text": [
      "a =  3\n"
     ]
    }
   ],
   "source": [
    "a = 3"
   ]
  },
  {
   "cell_type": "code",
   "execution_count": 27,
   "metadata": {
    "collapsed": true
   },
   "outputs": [],
   "source": [
    "a = 3; % ponto e vírgula para não printar"
   ]
  },
  {
   "cell_type": "code",
   "execution_count": 28,
   "metadata": {
    "collapsed": false
   },
   "outputs": [],
   "source": [
    "b = \"olá\";"
   ]
  },
  {
   "cell_type": "code",
   "execution_count": 29,
   "metadata": {
    "collapsed": false
   },
   "outputs": [
    {
     "name": "stdout",
     "output_type": "stream",
     "text": [
      "b = olá\n"
     ]
    }
   ],
   "source": [
    "b"
   ]
  },
  {
   "cell_type": "code",
   "execution_count": 30,
   "metadata": {
    "collapsed": true
   },
   "outputs": [],
   "source": [
    "c = (3 >= 1);"
   ]
  },
  {
   "cell_type": "code",
   "execution_count": 31,
   "metadata": {
    "collapsed": false
   },
   "outputs": [
    {
     "name": "stdout",
     "output_type": "stream",
     "text": [
      "c =  1\n"
     ]
    }
   ],
   "source": [
    "c"
   ]
  },
  {
   "cell_type": "code",
   "execution_count": 32,
   "metadata": {
    "collapsed": true
   },
   "outputs": [],
   "source": [
    "a = pi;"
   ]
  },
  {
   "cell_type": "code",
   "execution_count": 33,
   "metadata": {
    "collapsed": false
   },
   "outputs": [
    {
     "name": "stdout",
     "output_type": "stream",
     "text": [
      "a =  3.1416\n"
     ]
    }
   ],
   "source": [
    "a"
   ]
  },
  {
   "cell_type": "code",
   "execution_count": 34,
   "metadata": {
    "collapsed": false
   },
   "outputs": [
    {
     "name": "stdout",
     "output_type": "stream",
     "text": [
      " 3.1416\n"
     ]
    }
   ],
   "source": [
    "% para printar\n",
    "disp(a)"
   ]
  },
  {
   "cell_type": "code",
   "execution_count": 35,
   "metadata": {
    "collapsed": false
   },
   "outputs": [
    {
     "name": "stdout",
     "output_type": "stream",
     "text": [
      "Duas casas decimais: 3.14\n"
     ]
    }
   ],
   "source": [
    "disp(sprintf('Duas casas decimais: %0.2f', a))"
   ]
  },
  {
   "cell_type": "code",
   "execution_count": 36,
   "metadata": {
    "collapsed": false
   },
   "outputs": [
    {
     "name": "stdout",
     "output_type": "stream",
     "text": [
      "Seis casas decimais: 3.141593\n"
     ]
    }
   ],
   "source": [
    "disp(sprintf('Seis casas decimais: %0.6f', a))"
   ]
  },
  {
   "cell_type": "code",
   "execution_count": 37,
   "metadata": {
    "collapsed": true
   },
   "outputs": [],
   "source": [
    "format long"
   ]
  },
  {
   "cell_type": "code",
   "execution_count": 38,
   "metadata": {
    "collapsed": false
   },
   "outputs": [
    {
     "name": "stdout",
     "output_type": "stream",
     "text": [
      "a =  3.14159265358979\n"
     ]
    }
   ],
   "source": [
    "a"
   ]
  },
  {
   "cell_type": "code",
   "execution_count": 39,
   "metadata": {
    "collapsed": true
   },
   "outputs": [],
   "source": [
    "format short"
   ]
  },
  {
   "cell_type": "code",
   "execution_count": 40,
   "metadata": {
    "collapsed": false
   },
   "outputs": [
    {
     "name": "stdout",
     "output_type": "stream",
     "text": [
      "a =  3.1416\n"
     ]
    }
   ],
   "source": [
    "a"
   ]
  },
  {
   "cell_type": "markdown",
   "metadata": {},
   "source": [
    "# Matrizes"
   ]
  },
  {
   "cell_type": "code",
   "execution_count": 41,
   "metadata": {
    "collapsed": false
   },
   "outputs": [
    {
     "name": "stdout",
     "output_type": "stream",
     "text": [
      "A =\n",
      "\n",
      "   1   2\n",
      "   3   4\n",
      "   5   6\n",
      "\n"
     ]
    }
   ],
   "source": [
    "A = [1 2; 3 4; 5 6]"
   ]
  },
  {
   "cell_type": "code",
   "execution_count": 42,
   "metadata": {
    "collapsed": false
   },
   "outputs": [
    {
     "name": "stdout",
     "output_type": "stream",
     "text": [
      "A =\n",
      "\n",
      "   1   2\n",
      "   3   4\n",
      "   5   6\n",
      "\n"
     ]
    }
   ],
   "source": [
    "A = [1 2;\n",
    "     3 4;\n",
    "     5 6]"
   ]
  },
  {
   "cell_type": "code",
   "execution_count": 43,
   "metadata": {
    "collapsed": false
   },
   "outputs": [
    {
     "name": "stdout",
     "output_type": "stream",
     "text": [
      "V =\n",
      "\n",
      "   1   2   3\n",
      "\n"
     ]
    }
   ],
   "source": [
    "% vetor\n",
    "V = [1 2 3]"
   ]
  },
  {
   "cell_type": "code",
   "execution_count": 44,
   "metadata": {
    "collapsed": false
   },
   "outputs": [
    {
     "name": "stdout",
     "output_type": "stream",
     "text": [
      "v =\n",
      "\n",
      "   1\n",
      "   2\n",
      "   3\n",
      "\n"
     ]
    }
   ],
   "source": [
    "% vetor coluna\n",
    "v = [1; 2; 3]"
   ]
  },
  {
   "cell_type": "code",
   "execution_count": 45,
   "metadata": {
    "collapsed": false
   },
   "outputs": [
    {
     "name": "stdout",
     "output_type": "stream",
     "text": [
      "v =\n",
      "\n",
      " Columns 1 through 8:\n",
      "\n",
      "    1.0000    1.1000    1.2000    1.3000    1.4000    1.5000    1.6000    1.7000\n",
      "\n",
      " Columns 9 through 11:\n",
      "\n",
      "    1.8000    1.9000    2.0000\n",
      "\n"
     ]
    }
   ],
   "source": [
    "v = 1:0.1:2"
   ]
  },
  {
   "cell_type": "code",
   "execution_count": 46,
   "metadata": {
    "collapsed": false
   },
   "outputs": [
    {
     "name": "stdout",
     "output_type": "stream",
     "text": [
      "ans =\n",
      "\n",
      "   1   1   1\n",
      "   1   1   1\n",
      "\n"
     ]
    }
   ],
   "source": [
    "ones(2, 3)"
   ]
  },
  {
   "cell_type": "code",
   "execution_count": 47,
   "metadata": {
    "collapsed": false
   },
   "outputs": [
    {
     "name": "stdout",
     "output_type": "stream",
     "text": [
      "C =\n",
      "\n",
      "   2   2   2\n",
      "   2   2   2\n",
      "\n"
     ]
    }
   ],
   "source": [
    "C = 2*ones(2, 3)"
   ]
  },
  {
   "cell_type": "code",
   "execution_count": 48,
   "metadata": {
    "collapsed": false
   },
   "outputs": [
    {
     "name": "stdout",
     "output_type": "stream",
     "text": [
      "D =\n",
      "\n",
      "   1\n",
      "   1\n",
      "   1\n",
      "\n"
     ]
    }
   ],
   "source": [
    "D = ones(3, 1)"
   ]
  },
  {
   "cell_type": "code",
   "execution_count": 49,
   "metadata": {
    "collapsed": false
   },
   "outputs": [
    {
     "name": "stdout",
     "output_type": "stream",
     "text": [
      "E =\n",
      "\n",
      "   1   1   1\n",
      "\n"
     ]
    }
   ],
   "source": [
    "E = ones(1, 3)"
   ]
  },
  {
   "cell_type": "code",
   "execution_count": 50,
   "metadata": {
    "collapsed": false
   },
   "outputs": [
    {
     "name": "stdout",
     "output_type": "stream",
     "text": [
      "w =\n",
      "\n",
      "   0   0   0\n",
      "\n"
     ]
    }
   ],
   "source": [
    "w = zeros(1, 3)"
   ]
  },
  {
   "cell_type": "code",
   "execution_count": 51,
   "metadata": {
    "collapsed": false
   },
   "outputs": [
    {
     "name": "stdout",
     "output_type": "stream",
     "text": [
      "w =\n",
      "\n",
      "   0.70714   0.83479   0.52699\n",
      "\n"
     ]
    }
   ],
   "source": [
    "% rand de randon\n",
    "w = rand(1, 3)"
   ]
  },
  {
   "cell_type": "code",
   "execution_count": 52,
   "metadata": {
    "collapsed": false
   },
   "outputs": [
    {
     "name": "stdout",
     "output_type": "stream",
     "text": [
      "ans =\n",
      "\n",
      "   0.295478   0.607101   0.250584\n",
      "   0.263058   0.095409   0.244274\n",
      "   0.687023   0.145346   0.354756\n",
      "\n"
     ]
    }
   ],
   "source": [
    "rand(3, 3) % números aleatórios retirados de uma normal "
   ]
  },
  {
   "cell_type": "code",
   "execution_count": 53,
   "metadata": {
    "collapsed": true
   },
   "outputs": [],
   "source": [
    "w = -6 + sqrt(10)*(randn(1, 10000));"
   ]
  },
  {
   "cell_type": "code",
   "execution_count": 54,
   "metadata": {
    "collapsed": false
   },
   "outputs": [
    {
     "data": {
      "image/png": "[encoded data removed]",
      "text/plain": [
       "<IPython.core.display.Image object>"
      ]
     },
     "metadata": {},
     "output_type": "display_data"
    }
   ],
   "source": [
    "hist(w)"
   ]
  },
  {
   "cell_type": "code",
   "execution_count": 55,
   "metadata": {
    "collapsed": false
   },
   "outputs": [
    {
     "data": {
      "image/png": "[encoded data removed]",
      "text/plain": [
       "<IPython.core.display.Image object>"
      ]
     },
     "metadata": {},
     "output_type": "display_data"
    }
   ],
   "source": [
    "hist(w, 50)"
   ]
  },
  {
   "cell_type": "code",
   "execution_count": 56,
   "metadata": {
    "collapsed": false
   },
   "outputs": [
    {
     "name": "stdout",
     "output_type": "stream",
     "text": [
      "ans =\n",
      "\n",
      "Diagonal Matrix\n",
      "\n",
      "   1   0   0   0\n",
      "   0   1   0   0\n",
      "   0   0   1   0\n",
      "   0   0   0   1\n",
      "\n"
     ]
    }
   ],
   "source": [
    "eye(4)"
   ]
  },
  {
   "cell_type": "code",
   "execution_count": 57,
   "metadata": {
    "collapsed": false
   },
   "outputs": [
    {
     "name": "stdout",
     "output_type": "stream",
     "text": [
      "ans =\n",
      "\n",
      "Diagonal Matrix\n",
      "\n",
      "   1   0   0   0   0   0\n",
      "   0   1   0   0   0   0\n",
      "   0   0   1   0   0   0\n",
      "   0   0   0   1   0   0\n",
      "   0   0   0   0   1   0\n",
      "   0   0   0   0   0   1\n",
      "\n"
     ]
    }
   ],
   "source": [
    "eye(6)"
   ]
  },
  {
   "cell_type": "code",
   "execution_count": 58,
   "metadata": {
    "collapsed": false
   },
   "outputs": [
    {
     "name": "stdout",
     "output_type": "stream",
     "text": [
      "'eye' is a built-in function from the file libinterp/corefcn/data.cc\n",
      "\n",
      " -- Built-in Function: eye (N)\n",
      " -- Built-in Function: eye (M, N)\n",
      " -- Built-in Function: eye ([M N])\n",
      " -- Built-in Function: eye (..., CLASS)\n",
      "     Return an identity matrix.\n",
      "\n",
      "     If invoked with a single scalar argument N, return a square NxN\n",
      "     identity matrix.\n",
      "\n",
      "     If supplied two scalar arguments (M, N), 'eye' takes them to be the\n",
      "     number of rows and columns.  If given a vector with two elements,\n",
      "     'eye' uses the values of the elements as the number of rows and\n",
      "     columns, respectively.  For example:\n",
      "\n",
      "          eye (3)\n",
      "           =>  1  0  0\n",
      "               0  1  0\n",
      "               0  0  1\n",
      "\n",
      "     The following expressions all produce the same result:\n",
      "\n",
      "          eye (2)\n",
      "          ==\n",
      "          eye (2, 2)\n",
      "          ==\n",
      "          eye (size ([1, 2; 3, 4]))\n",
      "\n",
      "     The optional argument CLASS, allows 'eye' to return an array of the\n",
      "     specified type, like\n",
      "\n",
      "          val = zeros (n,m, \"uint8\")\n",
      "\n",
      "     Calling 'eye' with no arguments is equivalent to calling it with an\n",
      "     argument of 1.  Any negative dimensions are treated as zero.  These\n",
      "     odd definitions are for compatibility with MATLAB.\n",
      "\n",
      "     See also: speye, ones, zeros.\n",
      "\n",
      "Additional help for built-in functions and operators is\n",
      "available in the online version of the manual.  Use the command\n",
      "'doc <topic>' to search the manual index.\n",
      "\n",
      "Help and information about Octave is also available on the WWW\n",
      "at http://www.octave.org and via the help@octave.org\n",
      "mailing list.\n"
     ]
    }
   ],
   "source": [
    "# use help para conseguir uma \n",
    "# esplicação do comando\n",
    "help eye"
   ]
  },
  {
   "cell_type": "code",
   "execution_count": 59,
   "metadata": {
    "collapsed": false
   },
   "outputs": [
    {
     "name": "stdout",
     "output_type": "stream",
     "text": [
      "A =\n",
      "\n",
      "   1   2\n",
      "   3   4\n",
      "   5   6\n",
      "\n"
     ]
    }
   ],
   "source": [
    "A = [1 2; 3 4; 5 6]"
   ]
  },
  {
   "cell_type": "code",
   "execution_count": 60,
   "metadata": {
    "collapsed": false
   },
   "outputs": [
    {
     "name": "stdout",
     "output_type": "stream",
     "text": [
      "ans =\n",
      "\n",
      "   3   2\n",
      "\n"
     ]
    }
   ],
   "source": [
    "size(A)"
   ]
  },
  {
   "cell_type": "code",
   "execution_count": 61,
   "metadata": {
    "collapsed": false
   },
   "outputs": [
    {
     "name": "stdout",
     "output_type": "stream",
     "text": [
      "ans =  3\n"
     ]
    }
   ],
   "source": [
    "size(A, 1) % te dá a primeira dimensão de A, ou seja, o número de linhas"
   ]
  },
  {
   "cell_type": "code",
   "execution_count": 62,
   "metadata": {
    "collapsed": false
   },
   "outputs": [
    {
     "name": "stdout",
     "output_type": "stream",
     "text": [
      "ans =  2\n"
     ]
    }
   ],
   "source": [
    "size(A, 2) % te dá a segunda dimensão de A, ou seja, o número de colunas"
   ]
  },
  {
   "cell_type": "code",
   "execution_count": 63,
   "metadata": {
    "collapsed": false
   },
   "outputs": [
    {
     "name": "stdout",
     "output_type": "stream",
     "text": [
      "v =\n",
      "\n",
      "   1   2   3   4\n",
      "\n"
     ]
    }
   ],
   "source": [
    "v = [1 2 3 4]"
   ]
  },
  {
   "cell_type": "code",
   "execution_count": 64,
   "metadata": {
    "collapsed": false
   },
   "outputs": [
    {
     "name": "stdout",
     "output_type": "stream",
     "text": [
      "ans =  4\n"
     ]
    }
   ],
   "source": [
    "length(v)"
   ]
  },
  {
   "cell_type": "markdown",
   "metadata": {},
   "source": [
    "# Arquivos"
   ]
  },
  {
   "cell_type": "code",
   "execution_count": 65,
   "metadata": {
    "collapsed": false
   },
   "outputs": [
    {
     "name": "stdout",
     "output_type": "stream",
     "text": [
      "ans = /home/cloves/Documentos/data_science/machine_learning/curso_cursera\n"
     ]
    }
   ],
   "source": [
    "pwd "
   ]
  },
  {
   "cell_type": "code",
   "execution_count": 66,
   "metadata": {
    "collapsed": false
   },
   "outputs": [
    {
     "name": "stdout",
     "output_type": "stream",
     "text": [
      "assinaturas.csv  intruducao_octave.ipynb  Lecture2.pdf\tLecture4.pdf\n",
      "hello.mat\t Lecture1.pdf\t\t  Lecture3.pdf\toctave-workspace\n"
     ]
    }
   ],
   "source": [
    "ls"
   ]
  },
  {
   "cell_type": "code",
   "execution_count": 67,
   "metadata": {
    "collapsed": false
   },
   "outputs": [
    {
     "name": "stdout",
     "output_type": "stream",
     "text": [
      "Variables in the current scope:\n",
      "\n",
      "A    C    D    E    V    a    ans  b    c    v    w\n",
      "\n"
     ]
    }
   ],
   "source": [
    "who % me mostra as variáveis que tenho no meu ambiente Octave"
   ]
  },
  {
   "cell_type": "code",
   "execution_count": 68,
   "metadata": {
    "collapsed": false
   },
   "outputs": [
    {
     "name": "stdout",
     "output_type": "stream",
     "text": [
      "Variables in the current scope:\n",
      "\n",
      "   Attr Name        Size                     Bytes  Class\n",
      "   ==== ====        ====                     =====  ===== \n",
      "        A           3x2                         48  double\n",
      "        C           2x3                         48  double\n",
      "        D           3x1                         24  double\n",
      "        E           1x3                         24  double\n",
      "        V           1x3                         24  double\n",
      "        a           1x1                          8  double\n",
      "        ans         1x67                        67  char\n",
      "        b           1x4                          4  char\n",
      "        c           1x1                          1  logical\n",
      "        v           1x4                         32  double\n",
      "        w           1x10000                  80000  double\n",
      "\n",
      "Total is 10098 elements using 80280 bytes\n",
      "\n"
     ]
    }
   ],
   "source": [
    "whos"
   ]
  },
  {
   "cell_type": "code",
   "execution_count": 69,
   "metadata": {
    "collapsed": true
   },
   "outputs": [],
   "source": [
    "clear ans"
   ]
  },
  {
   "cell_type": "code",
   "execution_count": 70,
   "metadata": {
    "collapsed": false
   },
   "outputs": [
    {
     "name": "stdout",
     "output_type": "stream",
     "text": [
      "Variables in the current scope:\n",
      "\n",
      "   Attr Name        Size                     Bytes  Class\n",
      "   ==== ====        ====                     =====  ===== \n",
      "        A           3x2                         48  double\n",
      "        C           2x3                         48  double\n",
      "        D           3x1                         24  double\n",
      "        E           1x3                         24  double\n",
      "        V           1x3                         24  double\n",
      "        a           1x1                          8  double\n",
      "        b           1x4                          4  char\n",
      "        c           1x1                          1  logical\n",
      "        v           1x4                         32  double\n",
      "        w           1x10000                  80000  double\n",
      "\n",
      "Total is 10031 elements using 80213 bytes\n",
      "\n"
     ]
    }
   ],
   "source": [
    "whos"
   ]
  },
  {
   "cell_type": "code",
   "execution_count": 71,
   "metadata": {
    "collapsed": true
   },
   "outputs": [],
   "source": [
    "save hello.mat A % salva a variável A dentro do arquivo hello.mat"
   ]
  },
  {
   "cell_type": "code",
   "execution_count": 72,
   "metadata": {
    "collapsed": false
   },
   "outputs": [
    {
     "name": "stdout",
     "output_type": "stream",
     "text": [
      "assinaturas.csv  intruducao_octave.ipynb  Lecture2.pdf\tLecture4.pdf\n",
      "hello.mat\t Lecture1.pdf\t\t  Lecture3.pdf\toctave-workspace\n"
     ]
    }
   ],
   "source": [
    "ls"
   ]
  },
  {
   "cell_type": "code",
   "execution_count": 73,
   "metadata": {
    "collapsed": true
   },
   "outputs": [],
   "source": [
    "clear % limpa todas a variáveis"
   ]
  },
  {
   "cell_type": "code",
   "execution_count": 74,
   "metadata": {
    "collapsed": true
   },
   "outputs": [],
   "source": [
    "whos"
   ]
  },
  {
   "cell_type": "code",
   "execution_count": 75,
   "metadata": {
    "collapsed": true
   },
   "outputs": [],
   "source": [
    "who"
   ]
  },
  {
   "cell_type": "code",
   "execution_count": 76,
   "metadata": {
    "collapsed": true
   },
   "outputs": [],
   "source": [
    "load hello.mat "
   ]
  },
  {
   "cell_type": "code",
   "execution_count": 77,
   "metadata": {
    "collapsed": false
   },
   "outputs": [
    {
     "name": "stdout",
     "output_type": "stream",
     "text": [
      "Variables in the current scope:\n",
      "\n",
      "   Attr Name        Size                     Bytes  Class\n",
      "   ==== ====        ====                     =====  ===== \n",
      "        A           3x2                         48  double\n",
      "\n",
      "Total is 6 elements using 48 bytes\n",
      "\n"
     ]
    }
   ],
   "source": [
    "whos"
   ]
  },
  {
   "cell_type": "code",
   "execution_count": 79,
   "metadata": {
    "collapsed": false
   },
   "outputs": [],
   "source": [
    "v = rand(1, 100);"
   ]
  },
  {
   "cell_type": "code",
   "execution_count": 80,
   "metadata": {
    "collapsed": true
   },
   "outputs": [],
   "source": [
    "save hello.txt v"
   ]
  },
  {
   "cell_type": "code",
   "execution_count": 81,
   "metadata": {
    "collapsed": false
   },
   "outputs": [
    {
     "name": "stdout",
     "output_type": "stream",
     "text": [
      "assinaturas.csv  intruducao_octave.ipynb  Lecture3.pdf\n",
      "hello.mat\t Lecture1.pdf\t\t  Lecture4.pdf\n",
      "hello.txt\t Lecture2.pdf\t\t  octave-workspace\n"
     ]
    }
   ],
   "source": [
    "ls"
   ]
  },
  {
   "cell_type": "markdown",
   "metadata": {},
   "source": [
    "# Manipulando dados"
   ]
  },
  {
   "cell_type": "code",
   "execution_count": 82,
   "metadata": {
    "collapsed": false
   },
   "outputs": [
    {
     "name": "stdout",
     "output_type": "stream",
     "text": [
      "A =\n",
      "\n",
      "   1   2\n",
      "   3   4\n",
      "   5   6\n",
      "\n"
     ]
    }
   ],
   "source": [
    "A = [1 2; 3 4; 5 6]"
   ]
  },
  {
   "cell_type": "code",
   "execution_count": 83,
   "metadata": {
    "collapsed": false
   },
   "outputs": [
    {
     "name": "stdout",
     "output_type": "stream",
     "text": [
      "ans =  6\n"
     ]
    }
   ],
   "source": [
    "A(3, 2)"
   ]
  },
  {
   "cell_type": "code",
   "execution_count": 84,
   "metadata": {
    "collapsed": false
   },
   "outputs": [
    {
     "name": "stdout",
     "output_type": "stream",
     "text": [
      "ans =\n",
      "\n",
      "   3   4\n",
      "\n"
     ]
    }
   ],
   "source": [
    "A(2,:)"
   ]
  },
  {
   "cell_type": "code",
   "execution_count": 85,
   "metadata": {
    "collapsed": false
   },
   "outputs": [
    {
     "name": "stdout",
     "output_type": "stream",
     "text": [
      "ans =\n",
      "\n",
      "   2\n",
      "   4\n",
      "   6\n",
      "\n"
     ]
    }
   ],
   "source": [
    "A(:,2)"
   ]
  },
  {
   "cell_type": "code",
   "execution_count": 87,
   "metadata": {
    "collapsed": false
   },
   "outputs": [
    {
     "name": "stdout",
     "output_type": "stream",
     "text": [
      "ans =\n",
      "\n",
      "   1   2\n",
      "   5   6\n",
      "\n"
     ]
    }
   ],
   "source": [
    "A([1, 3], :) % pega linha 1 e 3"
   ]
  },
  {
   "cell_type": "code",
   "execution_count": 88,
   "metadata": {
    "collapsed": false
   },
   "outputs": [
    {
     "name": "stdout",
     "output_type": "stream",
     "text": [
      "A =\n",
      "\n",
      "    1   10\n",
      "    3   11\n",
      "    5   12\n",
      "\n"
     ]
    }
   ],
   "source": [
    "A(:,2) = [10; 11; 12]"
   ]
  },
  {
   "cell_type": "code",
   "execution_count": 90,
   "metadata": {
    "collapsed": false
   },
   "outputs": [
    {
     "name": "stdout",
     "output_type": "stream",
     "text": [
      "A =\n",
      "\n",
      "     1    10   100\n",
      "     3    11   101\n",
      "     5    12   102\n",
      "\n"
     ]
    }
   ],
   "source": [
    "A = [A, [100; 101; 102]] % adiciona nova coluna à direita"
   ]
  },
  {
   "cell_type": "code",
   "execution_count": 91,
   "metadata": {
    "collapsed": false
   },
   "outputs": [
    {
     "name": "stdout",
     "output_type": "stream",
     "text": [
      "ans =\n",
      "\n",
      "     1\n",
      "     3\n",
      "     5\n",
      "    10\n",
      "    11\n",
      "    12\n",
      "   100\n",
      "   101\n",
      "   102\n",
      "\n"
     ]
    }
   ],
   "source": [
    "A(:) % põe todos os elementos da matrix em um vetor coluna"
   ]
  },
  {
   "cell_type": "code",
   "execution_count": 92,
   "metadata": {
    "collapsed": false
   },
   "outputs": [
    {
     "name": "stdout",
     "output_type": "stream",
     "text": [
      "A =\n",
      "\n",
      "   1   2\n",
      "   3   4\n",
      "   5   6\n",
      "\n"
     ]
    }
   ],
   "source": [
    "A = [1 2; 3 4; 5 6]"
   ]
  },
  {
   "cell_type": "code",
   "execution_count": 93,
   "metadata": {
    "collapsed": false
   },
   "outputs": [
    {
     "name": "stdout",
     "output_type": "stream",
     "text": [
      "B =\n",
      "\n",
      "   11   12\n",
      "   13   14\n",
      "   15   16\n",
      "\n"
     ]
    }
   ],
   "source": [
    "B = [11 12; 13 14; 15 16]"
   ]
  },
  {
   "cell_type": "code",
   "execution_count": 94,
   "metadata": {
    "collapsed": false
   },
   "outputs": [
    {
     "name": "stdout",
     "output_type": "stream",
     "text": [
      "C =\n",
      "\n",
      "    1    2   11   12\n",
      "    3    4   13   14\n",
      "    5    6   15   16\n",
      "\n"
     ]
    }
   ],
   "source": [
    "C = [A B]"
   ]
  },
  {
   "cell_type": "code",
   "execution_count": 95,
   "metadata": {
    "collapsed": false
   },
   "outputs": [
    {
     "name": "stdout",
     "output_type": "stream",
     "text": [
      "D =\n",
      "\n",
      "    1    2\n",
      "    3    4\n",
      "    5    6\n",
      "   11   12\n",
      "   13   14\n",
      "   15   16\n",
      "\n"
     ]
    }
   ],
   "source": [
    "D = [A; B]"
   ]
  },
  {
   "cell_type": "markdown",
   "metadata": {},
   "source": [
    "# Operações com os dados"
   ]
  },
  {
   "cell_type": "code",
   "execution_count": 104,
   "metadata": {
    "collapsed": false
   },
   "outputs": [
    {
     "name": "stdout",
     "output_type": "stream",
     "text": [
      "C =\n",
      "\n",
      "   1   1\n",
      "   2   2\n",
      "\n"
     ]
    }
   ],
   "source": [
    "C = [1 1; 2 2]"
   ]
  },
  {
   "cell_type": "code",
   "execution_count": 97,
   "metadata": {
    "collapsed": false
   },
   "outputs": [
    {
     "name": "stdout",
     "output_type": "stream",
     "text": [
      "ans =\n",
      "\n",
      "    5    5\n",
      "   11   11\n",
      "   17   17\n",
      "\n"
     ]
    }
   ],
   "source": [
    "A * C"
   ]
  },
  {
   "cell_type": "code",
   "execution_count": 98,
   "metadata": {
    "collapsed": false
   },
   "outputs": [
    {
     "name": "stdout",
     "output_type": "stream",
     "text": [
      "ans =\n",
      "\n",
      "   11   24\n",
      "   39   56\n",
      "   75   96\n",
      "\n"
     ]
    }
   ],
   "source": [
    "A .* B % multiplicar cada elemento de A aos elementos correspondentes em B"
   ]
  },
  {
   "cell_type": "code",
   "execution_count": 99,
   "metadata": {
    "collapsed": false
   },
   "outputs": [
    {
     "name": "stdout",
     "output_type": "stream",
     "text": [
      "v =\n",
      "\n",
      "   1\n",
      "   2\n",
      "   3\n",
      "\n"
     ]
    }
   ],
   "source": [
    "v = [1; 2; 3]"
   ]
  },
  {
   "cell_type": "code",
   "execution_count": 100,
   "metadata": {
    "collapsed": false
   },
   "outputs": [
    {
     "name": "stdout",
     "output_type": "stream",
     "text": [
      "ans =\n",
      "\n",
      "   1.00000\n",
      "   0.50000\n",
      "   0.33333\n",
      "\n"
     ]
    }
   ],
   "source": [
    "1 ./ v"
   ]
  },
  {
   "cell_type": "code",
   "execution_count": 101,
   "metadata": {
    "collapsed": false
   },
   "outputs": [
    {
     "name": "stdout",
     "output_type": "stream",
     "text": [
      "ans =\n",
      "\n",
      "   1.00000   0.50000\n",
      "   0.33333   0.25000\n",
      "   0.20000   0.16667\n",
      "\n"
     ]
    }
   ],
   "source": [
    "1 ./ A % me dá a inversa de A"
   ]
  },
  {
   "cell_type": "code",
   "execution_count": 102,
   "metadata": {
    "collapsed": false
   },
   "outputs": [
    {
     "name": "stdout",
     "output_type": "stream",
     "text": [
      "ans =\n",
      "\n",
      "   0.00000\n",
      "   0.69315\n",
      "   1.09861\n",
      "\n"
     ]
    }
   ],
   "source": [
    "log(v)"
   ]
  },
  {
   "cell_type": "code",
   "execution_count": 103,
   "metadata": {
    "collapsed": false
   },
   "outputs": [
    {
     "name": "stdout",
     "output_type": "stream",
     "text": [
      "ans =\n",
      "\n",
      "    2.7183\n",
      "    7.3891\n",
      "   20.0855\n",
      "\n"
     ]
    }
   ],
   "source": [
    "exp(v)"
   ]
  },
  {
   "cell_type": "code",
   "execution_count": 106,
   "metadata": {
    "collapsed": false
   },
   "outputs": [
    {
     "name": "stdout",
     "output_type": "stream",
     "text": [
      "ans =\n",
      "\n",
      "   1\n",
      "   2\n",
      "   3\n",
      "\n"
     ]
    }
   ],
   "source": [
    "abs([-1; 2; -3])"
   ]
  },
  {
   "cell_type": "code",
   "execution_count": 107,
   "metadata": {
    "collapsed": false
   },
   "outputs": [
    {
     "name": "stdout",
     "output_type": "stream",
     "text": [
      "ans =\n",
      "\n",
      "  -1\n",
      "  -2\n",
      "  -3\n",
      "\n"
     ]
    }
   ],
   "source": [
    "-v"
   ]
  },
  {
   "cell_type": "code",
   "execution_count": 108,
   "metadata": {
    "collapsed": false
   },
   "outputs": [
    {
     "name": "stdout",
     "output_type": "stream",
     "text": [
      "ans =\n",
      "\n",
      "  -1\n",
      "  -2\n",
      "  -3\n",
      "\n"
     ]
    }
   ],
   "source": [
    "-1 * v"
   ]
  },
  {
   "cell_type": "code",
   "execution_count": 110,
   "metadata": {
    "collapsed": false
   },
   "outputs": [
    {
     "name": "stdout",
     "output_type": "stream",
     "text": [
      "ans =\n",
      "\n",
      "   2\n",
      "   3\n",
      "   4\n",
      "\n"
     ]
    }
   ],
   "source": [
    "v + ones(length(v), 1) % incrementa 1 para cada elemento de v"
   ]
  },
  {
   "cell_type": "code",
   "execution_count": 111,
   "metadata": {
    "collapsed": false
   },
   "outputs": [
    {
     "name": "stdout",
     "output_type": "stream",
     "text": [
      "A =\n",
      "\n",
      "   1   2\n",
      "   3   4\n",
      "   5   6\n",
      "\n"
     ]
    }
   ],
   "source": [
    "A"
   ]
  },
  {
   "cell_type": "code",
   "execution_count": 112,
   "metadata": {
    "collapsed": false
   },
   "outputs": [
    {
     "name": "stdout",
     "output_type": "stream",
     "text": [
      "ans =\n",
      "\n",
      "   1   3   5\n",
      "   2   4   6\n",
      "\n"
     ]
    }
   ],
   "source": [
    "A' % transposta de A"
   ]
  },
  {
   "cell_type": "code",
   "execution_count": 113,
   "metadata": {
    "collapsed": false
   },
   "outputs": [
    {
     "name": "stdout",
     "output_type": "stream",
     "text": [
      "ans =\n",
      "\n",
      "   1   2\n",
      "   3   4\n",
      "   5   6\n",
      "\n"
     ]
    }
   ],
   "source": [
    "(A')'"
   ]
  },
  {
   "cell_type": "code",
   "execution_count": 114,
   "metadata": {
    "collapsed": false
   },
   "outputs": [
    {
     "name": "stdout",
     "output_type": "stream",
     "text": [
      "a =\n",
      "\n",
      "    1.00000   15.00000    2.00000    0.50000\n",
      "\n"
     ]
    }
   ],
   "source": [
    "a = [1 15 2 0.5]"
   ]
  },
  {
   "cell_type": "code",
   "execution_count": 115,
   "metadata": {
    "collapsed": false
   },
   "outputs": [
    {
     "name": "stdout",
     "output_type": "stream",
     "text": [
      "val =  15\n"
     ]
    }
   ],
   "source": [
    "val = max(a)"
   ]
  },
  {
   "cell_type": "code",
   "execution_count": 116,
   "metadata": {
    "collapsed": false
   },
   "outputs": [
    {
     "name": "stdout",
     "output_type": "stream",
     "text": [
      "val =  15\n",
      "ind =  2\n"
     ]
    }
   ],
   "source": [
    "[val, ind] = max(a) % pega o maior valor e seu corespondente índece"
   ]
  },
  {
   "cell_type": "code",
   "execution_count": 117,
   "metadata": {
    "collapsed": false
   },
   "outputs": [
    {
     "name": "stdout",
     "output_type": "stream",
     "text": [
      "ans =\n",
      "\n",
      "   5   6\n",
      "\n"
     ]
    }
   ],
   "source": [
    "max(A) % os valores máximos de cada coluna"
   ]
  },
  {
   "cell_type": "code",
   "execution_count": 119,
   "metadata": {
    "collapsed": false
   },
   "outputs": [
    {
     "name": "stdout",
     "output_type": "stream",
     "text": [
      "a =\n",
      "\n",
      "    1.00000   15.00000    2.00000    0.50000\n",
      "\n"
     ]
    }
   ],
   "source": [
    "a"
   ]
  },
  {
   "cell_type": "code",
   "execution_count": 118,
   "metadata": {
    "collapsed": false
   },
   "outputs": [
    {
     "name": "stdout",
     "output_type": "stream",
     "text": [
      "ans =\n",
      "\n",
      "   1   0   1   1\n",
      "\n"
     ]
    }
   ],
   "source": [
    "a < 3"
   ]
  },
  {
   "cell_type": "code",
   "execution_count": 121,
   "metadata": {
    "collapsed": false
   },
   "outputs": [
    {
     "name": "stdout",
     "output_type": "stream",
     "text": [
      "b =\n",
      "\n",
      "   1.00000   2.00000   0.50000\n",
      "\n"
     ]
    }
   ],
   "source": [
    "b = a(a < 3) "
   ]
  },
  {
   "cell_type": "code",
   "execution_count": 122,
   "metadata": {
    "collapsed": false
   },
   "outputs": [
    {
     "name": "stdout",
     "output_type": "stream",
     "text": [
      "ans =\n",
      "\n",
      "   1   3   4\n",
      "\n"
     ]
    }
   ],
   "source": [
    "find(a < 3)"
   ]
  },
  {
   "cell_type": "code",
   "execution_count": 123,
   "metadata": {
    "collapsed": false
   },
   "outputs": [
    {
     "name": "stdout",
     "output_type": "stream",
     "text": [
      "A =\n",
      "\n",
      "   8   1   6\n",
      "   3   5   7\n",
      "   4   9   2\n",
      "\n"
     ]
    }
   ],
   "source": [
    "A = magic(3) "
   ]
  },
  {
   "cell_type": "code",
   "execution_count": 124,
   "metadata": {
    "collapsed": false
   },
   "outputs": [
    {
     "name": "stdout",
     "output_type": "stream",
     "text": [
      "'magic' is a function from the file /usr/share/octave/4.0.0/m/special-matrix/magic.m\n",
      "\n",
      " -- Function File: magic (N)\n",
      "\n",
      "     Create an N-by-N magic square.\n",
      "\n",
      "     A magic square is an arrangement of the integers '1:n^2' such that\n",
      "     the row sums, column sums, and diagonal sums are all equal to the\n",
      "     same value.\n",
      "\n",
      "     Note: N must be greater than 2 for the magic square to exist.\n",
      "\n",
      "Additional help for built-in functions and operators is\n",
      "available in the online version of the manual.  Use the command\n",
      "'doc <topic>' to search the manual index.\n",
      "\n",
      "Help and information about Octave is also available on the WWW\n",
      "at http://www.octave.org and via the help@octave.org\n",
      "mailing list.\n"
     ]
    }
   ],
   "source": [
    "help magic"
   ]
  },
  {
   "cell_type": "code",
   "execution_count": 125,
   "metadata": {
    "collapsed": false
   },
   "outputs": [
    {
     "name": "stdout",
     "output_type": "stream",
     "text": [
      "linha =\n",
      "\n",
      "   1\n",
      "   3\n",
      "   2\n",
      "\n",
      "coluna =\n",
      "\n",
      "   1\n",
      "   2\n",
      "   3\n",
      "\n"
     ]
    }
   ],
   "source": [
    "[linha, coluna] = find(A >= 7)"
   ]
  },
  {
   "cell_type": "code",
   "execution_count": 126,
   "metadata": {
    "collapsed": false
   },
   "outputs": [
    {
     "name": "stdout",
     "output_type": "stream",
     "text": [
      "ans =  18.500\n"
     ]
    }
   ],
   "source": [
    "sum(a) % soma todos os elementos de a"
   ]
  },
  {
   "cell_type": "code",
   "execution_count": 127,
   "metadata": {
    "collapsed": false
   },
   "outputs": [
    {
     "name": "stdout",
     "output_type": "stream",
     "text": [
      "ans =  15\n"
     ]
    }
   ],
   "source": [
    "prod(a) % adivinha?!"
   ]
  },
  {
   "cell_type": "code",
   "execution_count": 129,
   "metadata": {
    "collapsed": false
   },
   "outputs": [
    {
     "name": "stdout",
     "output_type": "stream",
     "text": [
      "ans =\n",
      "\n",
      "    1   15    2    0\n",
      "\n"
     ]
    }
   ],
   "source": [
    "floor(a) % aredonda para baixo"
   ]
  },
  {
   "cell_type": "code",
   "execution_count": 130,
   "metadata": {
    "collapsed": false
   },
   "outputs": [
    {
     "name": "stdout",
     "output_type": "stream",
     "text": [
      "ans =\n",
      "\n",
      "    1   15    2    1\n",
      "\n"
     ]
    }
   ],
   "source": [
    "ceil(a) % arredonda para cima"
   ]
  },
  {
   "cell_type": "code",
   "execution_count": 132,
   "metadata": {
    "collapsed": false
   },
   "outputs": [
    {
     "name": "stdout",
     "output_type": "stream",
     "text": [
      "M =\n",
      "\n",
      "   0.367600   0.144799   0.786360\n",
      "   0.308991   0.036863   0.663531\n",
      "   0.301415   0.702785   0.881764\n",
      "\n"
     ]
    }
   ],
   "source": [
    "M = rand(3)"
   ]
  },
  {
   "cell_type": "code",
   "execution_count": 133,
   "metadata": {
    "collapsed": false
   },
   "outputs": [
    {
     "name": "stdout",
     "output_type": "stream",
     "text": [
      "ans =\n",
      "\n",
      "   0.36760   0.70279   0.88176\n",
      "\n"
     ]
    }
   ],
   "source": [
    "max(M)"
   ]
  },
  {
   "cell_type": "code",
   "execution_count": 134,
   "metadata": {
    "collapsed": false
   },
   "outputs": [
    {
     "name": "stdout",
     "output_type": "stream",
     "text": [
      "ans =\n",
      "\n",
      "   0.63373   0.91749   0.71619\n",
      "   0.81758   0.97007   0.49590\n",
      "   0.77505   0.40271   0.82444\n",
      "\n"
     ]
    }
   ],
   "source": [
    "max(rand(3), rand(3))"
   ]
  },
  {
   "cell_type": "code",
   "execution_count": 137,
   "metadata": {
    "collapsed": false
   },
   "outputs": [
    {
     "name": "stdout",
     "output_type": "stream",
     "text": [
      "ans =\n",
      "\n",
      "   8   9   7\n",
      "\n"
     ]
    }
   ],
   "source": [
    "max(A, [], 1) % máximo por linha"
   ]
  },
  {
   "cell_type": "code",
   "execution_count": 138,
   "metadata": {
    "collapsed": false
   },
   "outputs": [
    {
     "name": "stdout",
     "output_type": "stream",
     "text": [
      "ans =\n",
      "\n",
      "   8\n",
      "   7\n",
      "   9\n",
      "\n"
     ]
    }
   ],
   "source": [
    "max(A, [], 2) % máximo por coluna"
   ]
  },
  {
   "cell_type": "code",
   "execution_count": 139,
   "metadata": {
    "collapsed": false
   },
   "outputs": [
    {
     "name": "stdout",
     "output_type": "stream",
     "text": [
      "ans =\n",
      "\n",
      "   8   9   7\n",
      "\n"
     ]
    }
   ],
   "source": [
    "max(A)"
   ]
  },
  {
   "cell_type": "code",
   "execution_count": 140,
   "metadata": {
    "collapsed": false
   },
   "outputs": [
    {
     "name": "stdout",
     "output_type": "stream",
     "text": [
      "ans =  9\n"
     ]
    }
   ],
   "source": [
    "max(max(A))"
   ]
  },
  {
   "cell_type": "code",
   "execution_count": 141,
   "metadata": {
    "collapsed": false
   },
   "outputs": [
    {
     "name": "stdout",
     "output_type": "stream",
     "text": [
      "ans =  9\n"
     ]
    }
   ],
   "source": [
    "max(A(:))"
   ]
  },
  {
   "cell_type": "code",
   "execution_count": 142,
   "metadata": {
    "collapsed": false
   },
   "outputs": [
    {
     "name": "stdout",
     "output_type": "stream",
     "text": [
      "A =\n",
      "\n",
      "   47   58   69   80    1   12   23   34   45\n",
      "   57   68   79    9   11   22   33   44   46\n",
      "   67   78    8   10   21   32   43   54   56\n",
      "   77    7   18   20   31   42   53   55   66\n",
      "    6   17   19   30   41   52   63   65   76\n",
      "   16   27   29   40   51   62   64   75    5\n",
      "   26   28   39   50   61   72   74    4   15\n",
      "   36   38   49   60   71   73    3   14   25\n",
      "   37   48   59   70   81    2   13   24   35\n",
      "\n"
     ]
    }
   ],
   "source": [
    "A = magic(9)"
   ]
  },
  {
   "cell_type": "code",
   "execution_count": 145,
   "metadata": {
    "collapsed": false
   },
   "outputs": [
    {
     "name": "stdout",
     "output_type": "stream",
     "text": [
      "ans =\n",
      "\n",
      "   369   369   369   369   369   369   369   369   369\n",
      "\n"
     ]
    }
   ],
   "source": [
    "sum(A, 1) % soma cada coluna"
   ]
  },
  {
   "cell_type": "code",
   "execution_count": 146,
   "metadata": {
    "collapsed": false
   },
   "outputs": [
    {
     "name": "stdout",
     "output_type": "stream",
     "text": [
      "ans =\n",
      "\n",
      "   369\n",
      "   369\n",
      "   369\n",
      "   369\n",
      "   369\n",
      "   369\n",
      "   369\n",
      "   369\n",
      "   369\n",
      "\n"
     ]
    }
   ],
   "source": [
    "sum(A, 2) % soma cada linha"
   ]
  },
  {
   "cell_type": "code",
   "execution_count": 148,
   "metadata": {
    "collapsed": false
   },
   "outputs": [
    {
     "name": "stdout",
     "output_type": "stream",
     "text": [
      "I =\n",
      "\n",
      "Diagonal Matrix\n",
      "\n",
      "   1   0   0   0   0   0   0   0   0\n",
      "   0   1   0   0   0   0   0   0   0\n",
      "   0   0   1   0   0   0   0   0   0\n",
      "   0   0   0   1   0   0   0   0   0\n",
      "   0   0   0   0   1   0   0   0   0\n",
      "   0   0   0   0   0   1   0   0   0\n",
      "   0   0   0   0   0   0   1   0   0\n",
      "   0   0   0   0   0   0   0   1   0\n",
      "   0   0   0   0   0   0   0   0   1\n",
      "\n"
     ]
    }
   ],
   "source": [
    "I = eye(9)"
   ]
  },
  {
   "cell_type": "code",
   "execution_count": 150,
   "metadata": {
    "collapsed": false
   },
   "outputs": [
    {
     "name": "stdout",
     "output_type": "stream",
     "text": [
      "B =\n",
      "\n",
      "   47    0    0    0    0    0    0    0    0\n",
      "    0   68    0    0    0    0    0    0    0\n",
      "    0    0    8    0    0    0    0    0    0\n",
      "    0    0    0   20    0    0    0    0    0\n",
      "    0    0    0    0   41    0    0    0    0\n",
      "    0    0    0    0    0   62    0    0    0\n",
      "    0    0    0    0    0    0   74    0    0\n",
      "    0    0    0    0    0    0    0   14    0\n",
      "    0    0    0    0    0    0    0    0   35\n",
      "\n"
     ]
    }
   ],
   "source": [
    "B = A .* I"
   ]
  },
  {
   "cell_type": "code",
   "execution_count": 151,
   "metadata": {
    "collapsed": false
   },
   "outputs": [
    {
     "name": "stdout",
     "output_type": "stream",
     "text": [
      "ans =  369\n"
     ]
    }
   ],
   "source": [
    "sum(sum(B))"
   ]
  },
  {
   "cell_type": "code",
   "execution_count": 152,
   "metadata": {
    "collapsed": false
   },
   "outputs": [
    {
     "name": "stdout",
     "output_type": "stream",
     "text": [
      "A =\n",
      "\n",
      "   8   1   6\n",
      "   3   5   7\n",
      "   4   9   2\n",
      "\n"
     ]
    }
   ],
   "source": [
    "A = magic(3)"
   ]
  },
  {
   "cell_type": "code",
   "execution_count": 154,
   "metadata": {
    "collapsed": false
   },
   "outputs": [
    {
     "name": "stdout",
     "output_type": "stream",
     "text": [
      "A_inv =\n",
      "\n",
      "   0.147222  -0.144444   0.063889\n",
      "  -0.061111   0.022222   0.105556\n",
      "  -0.019444   0.188889  -0.102778\n",
      "\n"
     ]
    }
   ],
   "source": [
    "A_inv = pinv(A) % inversa de A"
   ]
  },
  {
   "cell_type": "code",
   "execution_count": 155,
   "metadata": {
    "collapsed": false
   },
   "outputs": [
    {
     "name": "stdout",
     "output_type": "stream",
     "text": [
      "ans =\n",
      "\n",
      "   1.0000e+00  -1.2157e-14   6.3560e-15\n",
      "   5.5511e-17   1.0000e+00  -1.5266e-16\n",
      "  -5.9813e-15   1.2268e-14   1.0000e+00\n",
      "\n"
     ]
    }
   ],
   "source": [
    "A * A_inv "
   ]
  },
  {
   "cell_type": "code",
   "execution_count": null,
   "metadata": {
    "collapsed": true
   },
   "outputs": [],
   "source": []
  }
 ],
 "metadata": {
  "anaconda-cloud": {},
  "kernelspec": {
   "display_name": "Octave",
   "language": "octave",
   "name": "octave"
  },
  "language_info": {
   "file_extension": ".m",
   "help_links": [
    {
     "text": "GNU Octave",
     "url": "https://www.gnu.org/software/octave/support.html"
    },
    {
     "text": "Octave Kernel",
     "url": "https://github.com/Calysto/octave_kernel"
    },
    {
     "text": "MetaKernel Magics",
     "url": "https://github.com/calysto/metakernel/blob/master/metakernel/magics/README.md"
    }
   ],
   "mimetype": "text/x-octave",
   "name": "octave",
   "version": "4.0.0"
  }
 },
 "nbformat": 4,
 "nbformat_minor": 2
}
